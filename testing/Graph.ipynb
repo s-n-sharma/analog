{
 "cells": [
  {
   "cell_type": "code",
   "execution_count": null,
   "id": "a1459a94",
   "metadata": {},
   "outputs": [],
   "source": [
    "import numpy as np\n",
    "import Circuit as circ"
   ]
  },
  {
   "cell_type": "code",
   "execution_count": null,
   "id": "61ead3c6",
   "metadata": {},
   "outputs": [
    {
     "ename": "SyntaxError",
     "evalue": "invalid syntax (199764817.py, line 12)",
     "output_type": "error",
     "traceback": [
      "\u001b[0;36m  Cell \u001b[0;32mIn[1], line 12\u001b[0;36m\u001b[0m\n\u001b[0;31m    self.type =\u001b[0m\n\u001b[0m                ^\u001b[0m\n\u001b[0;31mSyntaxError\u001b[0m\u001b[0;31m:\u001b[0m invalid syntax\n"
     ]
    }
   ],
   "source": [
    "class Graph:\n",
    "    class Node:\n",
    "        def __init__(self, circuitNode):\n",
    "            self.voltage = circuitNode.voltage\n",
    "    \n",
    "    class Edge:\n",
    "        def __init__(self, circuitComp):\n",
    "            if isinstance(circuitComp, circ.Capacitor) or isinstance(circuitComp, circ.Resistor):\n",
    "                self.type = \"0\"\n",
    "                self.impedance = circuitComp.impedance\n",
    "            if (isinstance(circuitComp, circ.VoltageSource)):\n",
    "                self.type = \"1\"\n",
    "                self.voltage = circuitComp.value\n",
    "    \n",
    "    def __init__(self, circuit):\n",
    "        self.node_map = {}\n",
    "        for cnode in circuit.nodes:\n",
    "            self.node_map[cnode] = Graph.Node(cnode)\n",
    "\n",
    "        self.adj_list = { gnode: [] for gnode in self.node_map.values() }\n",
    "        \n",
    "        for comp in circuit.components:\n",
    "            edge = Graph.Edge(comp)\n",
    "            \n",
    "        node_f = self.node_map[comp.nodeForward]\n",
    "        node_b = self.node_map[comp.nodeBackward]\n",
    "        \n",
    "        self.adj_list[node_f].append((node_b, edge))\n",
    "        self.adj_list[node_b].append((node_f, edge))\n",
    "        \n",
    "        self.nodes = list(self.adj_list.keys())"
   ]
  },
  {
   "cell_type": "code",
   "execution_count": null,
   "id": "b9578259",
   "metadata": {},
   "outputs": [],
   "source": []
  }
 ],
 "metadata": {
  "kernelspec": {
   "display_name": "NN",
   "language": "python",
   "name": "python3"
  },
  "language_info": {
   "codemirror_mode": {
    "name": "ipython",
    "version": 3
   },
   "file_extension": ".py",
   "mimetype": "text/x-python",
   "name": "python",
   "nbconvert_exporter": "python",
   "pygments_lexer": "ipython3",
   "version": "3.11.5"
  }
 },
 "nbformat": 4,
 "nbformat_minor": 5
}
